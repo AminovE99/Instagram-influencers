{
 "cells": [
  {
   "cell_type": "code",
   "execution_count": 1,
   "metadata": {
    "collapsed": true,
    "pycharm": {
     "is_executing": false
    }
   },
   "outputs": [],
   "source": [
    "from selenium import webdriver\n",
    "from bs4 import BeautifulSoup\n",
    "import time\n",
    "import json\n",
    "import requests\n",
    "from pymongo import MongoClient\n",
    "import numpy as np\n",
    "from collections import defaultdict\n",
    "import pickle\n",
    "import networkx as nx"
   ]
  },
  {
   "cell_type": "code",
   "execution_count": 2,
   "metadata": {
    "collapsed": false,
    "pycharm": {
     "is_executing": false
    }
   },
   "outputs": [],
   "source": [
    "from webscrape_util.scrape_util import (load_json,\n",
    "                        write_json,\n",
    "                        selenium_instagram_login,\n",
    "                        setup_mongo_client)\n"
   ]
  },
  {
   "cell_type": "code",
   "execution_count": 3,
   "metadata": {
    "collapsed": true,
    "pycharm": {
     "is_executing": false
    }
   },
   "outputs": [],
   "source": [
    "client, collection = setup_mongo_client('instascrape', 'influencer_likes')"
   ]
  },
  {
   "cell_type": "markdown",
   "metadata": {},
   "source": [
    "# Making dictionary of top posts for top influencers"
   ]
  },
  {
   "cell_type": "code",
   "execution_count": 4,
   "metadata": {
    "collapsed": true,
    "pycharm": {
     "is_executing": false
    }
   },
   "outputs": [],
   "source": [
    "hashtags_likes_dict = load_json('../data/hashtags_likes_dict.json')\n",
    "top = nx.read_gml('../data/graph_withSelenaGomez_reduced.gml')"
   ]
  },
  {
   "cell_type": "code",
   "execution_count": 5,
   "metadata": {
    "collapsed": true,
    "pycharm": {
     "is_executing": false
    }
   },
   "outputs": [],
   "source": [
    "# Collect posts for all top influencers\n",
    "influencers_top = {}\n",
    "for k,v in hashtags_likes_dict.iteritems():\n",
    "    if k in top.nodes():\n",
    "        influencers_top[k] = v"
   ]
  },
  {
   "cell_type": "code",
   "execution_count": 6,
   "metadata": {
    "collapsed": true,
    "pycharm": {
     "is_executing": false
    }
   },
   "outputs": [],
   "source": [
    "# Collect most liked post for all top influencers\n",
    "influencers_top_post = {}\n",
    "for k,v in influencers_top.iteritems():\n",
    "    influencers_top_post[k] = {'max_likes':0, 'post': None}\n",
    "    for i in range(len(v['likes'])):\n",
    "        if v['likes'][i] > influencers_top_post[k]['max_likes']:\n",
    "            influencers_top_post[k]['max_likes'] = v['likes'][i]\n",
    "            influencers_top_post[k]['post'] = v['posts'][i]"
   ]
  },
  {
   "cell_type": "code",
   "execution_count": 7,
   "metadata": {
    "collapsed": true,
    "pycharm": {
     "is_executing": false
    }
   },
   "outputs": [],
   "source": [
    "top = influencers_top_post.keys()"
   ]
  },
  {
   "cell_type": "markdown",
   "metadata": {},
   "source": [
    "# SCRAPE THE REST!"
   ]
  },
  {
   "cell_type": "code",
   "execution_count": 8,
   "metadata": {
    "collapsed": false,
    "pycharm": {
     "is_executing": false
    }
   },
   "outputs": [],
   "source": [
    "driver = webdriver.Firefox()\n",
    "url_likes = \"https://www.instagram.com/graphql/query/?query_id=17864450716183058&variables=%7B%22shortcode%22%3A%22{}%22%2C%22first%22%3A{}%7D\"\n",
    "selenium_instagram_login(driver, '../instagram_credentials.json')"
   ]
  },
  {
   "cell_type": "code",
   "execution_count": 9,
   "metadata": {
    "collapsed": false,
    "pycharm": {
     "is_executing": false
    }
   },
   "outputs": [],
   "source": [
    "for i in range(len(top)):\n",
    "    driver.get(url_likes.format(influencers_top_post[top[i]]['post'], str(influencers_top_post[top[i]]['max_likes'])))\n",
    "    time.sleep(np.random.uniform(3,5))\n",
    "    \n",
    "    driver.find_element_by_id('tab-1').click()\n",
    "    data = driver.find_element_by_css_selector('pre.data')\n",
    "    my_json = json.loads(data.text)\n",
    "    likes = my_json['data']['shortcode_media']['edge_liked_by']['edges']\n",
    "    collection.insert_one({'id':top[i],'likes': likes})\n",
    "    \n",
    "    time.sleep(np.random.uniform(5,8))"
   ]
  },
  {
   "cell_type": "markdown",
   "metadata": {},
   "source": [
    "# Saving the collected data"
   ]
  },
  {
   "cell_type": "code",
   "execution_count": 10,
   "metadata": {
    "collapsed": false,
    "scrolled": true,
    "pycharm": {
     "is_executing": false
    }
   },
   "outputs": [],
   "source": [
    "cursor = collection.find({})\n",
    "for x in cursor:\n",
    "    user_id = x['id']\n",
    "    likes = []\n",
    "    for liker in x['likes']:\n",
    "        likes.append(liker['node']['id'])\n",
    "    if influencers_top_post.get(user_id, False):\n",
    "        influencers_top_post[user_id]['likes'] = likes"
   ]
  },
  {
   "cell_type": "markdown",
   "metadata": {},
   "source": [
    "## Add total followers"
   ]
  },
  {
   "cell_type": "code",
   "execution_count": 11,
   "metadata": {
    "collapsed": true,
    "pycharm": {
     "is_executing": false
    }
   },
   "outputs": [],
   "source": [
    "G = nx.read_gml('../data/file.gml')"
   ]
  },
  {
   "cell_type": "code",
   "execution_count": 12,
   "metadata": {
    "collapsed": true,
    "pycharm": {
     "is_executing": false
    }
   },
   "outputs": [],
   "source": [
    "for influencer in influencers_top_post:\n",
    "    influencers_top_post[influencer]['num_follow'] = len(G.in_edges(influencer))"
   ]
  },
  {
   "cell_type": "code",
   "execution_count": 13,
   "metadata": {
    "collapsed": false,
    "pycharm": {
     "is_executing": false
    }
   },
   "outputs": [],
   "source": [
    "write_json(influencers_top_post, '../data/interaction_dict.json')"
   ]
  },
  {
   "cell_type": "markdown",
   "metadata": {},
   "source": [
    "# Checking the data"
   ]
  },
  {
   "cell_type": "code",
   "execution_count": 14,
   "metadata": {
    "collapsed": false,
    "pycharm": {
     "is_executing": false
    }
   },
   "outputs": [],
   "source": [
    "for k,v in influencers_top_post.iteritems():\n",
    "    if 'likes' in v.keys():\n",
    "        print k, v['max_likes'], len(v['likes'])"
   ]
  },
  {
   "cell_type": "code",
   "execution_count": 14,
   "metadata": {
    "collapsed": true,
    "pycharm": {
     "is_executing": false
    }
   },
   "outputs": [],
   "source": []
  }
 ],
 "metadata": {
  "kernelspec": {
   "name": "python2",
   "language": "python",
   "display_name": "Python 2"
  },
  "language_info": {
   "codemirror_mode": {
    "name": "ipython",
    "version": 2
   },
   "file_extension": ".py",
   "mimetype": "text/x-python",
   "name": "python",
   "nbconvert_exporter": "python",
   "pygments_lexer": "ipython2",
   "version": "2.7.13"
  },
  "pycharm": {
   "stem_cell": {
    "cell_type": "raw",
    "source": [],
    "metadata": {
     "collapsed": false
    }
   }
  }
 },
 "nbformat": 4,
 "nbformat_minor": 2
}