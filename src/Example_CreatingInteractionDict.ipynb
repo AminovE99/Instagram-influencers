{
 "cells": [
  {
   "cell_type": "code",
   "execution_count": 4,
   "metadata": {
    "collapsed": true
   },
   "outputs": [],
   "source": [
    "from selenium import webdriver\n",
    "from bs4 import BeautifulSoup\n",
    "import time\n",
    "import json\n",
    "import requests\n",
    "from pymongo import MongoClient\n",
    "import numpy as np\n",
    "from collections import defaultdict\n",
    "import pickle\n",
    "import networkx as nx"
   ]
  },
  {
   "cell_type": "code",
   "execution_count": 2,
   "metadata": {
    "collapsed": false
   },
   "outputs": [],
   "source": [
    "from scrape_util import (load_json,\n",
    "                        write_json,\n",
    "                        selenium_instagram_login,\n",
    "                        setup_mongo_client)\n"
   ]
  },
  {
   "cell_type": "code",
   "execution_count": 3,
   "metadata": {
    "collapsed": true
   },
   "outputs": [],
   "source": [
    "client, collection = setup_mongo_client('instascrape', 'influencer_likes')"
   ]
  },
  {
   "cell_type": "markdown",
   "metadata": {},
   "source": [
    "# Making dictionary of top posts for top influencers"
   ]
  },
  {
   "cell_type": "code",
   "execution_count": 5,
   "metadata": {
    "collapsed": true
   },
   "outputs": [],
   "source": [
    "hashtags_likes_dict = load_json('../data/hashtags_likes_dict.json')\n",
    "top = nx.read_gml('../data/graph_withSelenaGomez_reduced.gml')"
   ]
  },
  {
   "cell_type": "code",
   "execution_count": 8,
   "metadata": {
    "collapsed": true
   },
   "outputs": [],
   "source": [
    "# Collect posts for all top influencers\n",
    "influencers_top = {}\n",
    "for k,v in hashtags_likes_dict.iteritems():\n",
    "    if k in top.nodes():\n",
    "        influencers_top[k] = v"
   ]
  },
  {
   "cell_type": "code",
   "execution_count": 10,
   "metadata": {
    "collapsed": true
   },
   "outputs": [],
   "source": [
    "# Collect most liked post for all top influencers\n",
    "influencers_top_post = {}\n",
    "for k,v in influencers_top.iteritems():\n",
    "    influencers_top_post[k] = {'max_likes':0, 'post': None}\n",
    "    for i in range(len(v['likes'])):\n",
    "        if v['likes'][i] > influencers_top_post[k]['max_likes']:\n",
    "            influencers_top_post[k]['max_likes'] = v['likes'][i]\n",
    "            influencers_top_post[k]['post'] = v['posts'][i]"
   ]
  },
  {
   "cell_type": "code",
   "execution_count": 21,
   "metadata": {
    "collapsed": true
   },
   "outputs": [],
   "source": [
    "top = influencers_top_post.keys()"
   ]
  },
  {
   "cell_type": "markdown",
   "metadata": {},
   "source": [
    "# SCRAPE THE REST!"
   ]
  },
  {
   "cell_type": "code",
   "execution_count": 23,
   "metadata": {
    "collapsed": false
   },
   "outputs": [],
   "source": [
    "driver = webdriver.Firefox()\n",
    "url_likes = \"https://www.instagram.com/graphql/query/?query_id=17864450716183058&variables=%7B%22shortcode%22%3A%22{}%22%2C%22first%22%3A{}%7D\"\n",
    "selenium_instagram_login(driver, '../instagram_credentials.json')"
   ]
  },
  {
   "cell_type": "code",
   "execution_count": 32,
   "metadata": {
    "collapsed": false
   },
   "outputs": [],
   "source": [
    "for i in range(len(top)):\n",
    "    driver.get(url_likes.format(influencers_top_post[top[i]]['post'], str(influencers_top_post[top[i]]['max_likes'])))\n",
    "    time.sleep(np.random.uniform(3,5))\n",
    "    \n",
    "    driver.find_element_by_id('tab-1').click()\n",
    "    data = driver.find_element_by_css_selector('pre.data')\n",
    "    my_json = json.loads(data.text)\n",
    "    likes = my_json['data']['shortcode_media']['edge_liked_by']['edges']\n",
    "    collection.insert_one({'id':top[i],'likes': likes})\n",
    "    \n",
    "    time.sleep(np.random.uniform(5,8))"
   ]
  },
  {
   "cell_type": "markdown",
   "metadata": {},
   "source": [
    "# Saving the collected data"
   ]
  },
  {
   "cell_type": "code",
   "execution_count": 41,
   "metadata": {
    "collapsed": false,
    "scrolled": true
   },
   "outputs": [],
   "source": [
    "cursor = collection.find({})\n",
    "for x in cursor:\n",
    "    user_id = x['id']\n",
    "    likes = []\n",
    "    for liker in x['likes']:\n",
    "        likes.append(liker['node']['id'])\n",
    "    if influencers_top_post.get(user_id, False):\n",
    "        influencers_top_post[user_id]['likes'] = likes"
   ]
  },
  {
   "cell_type": "markdown",
   "metadata": {},
   "source": [
    "## Add total followers"
   ]
  },
  {
   "cell_type": "code",
   "execution_count": 42,
   "metadata": {
    "collapsed": true
   },
   "outputs": [],
   "source": [
    "G = nx.read_gml('../data/graph_withSelenaGomez.gml')"
   ]
  },
  {
   "cell_type": "code",
   "execution_count": 43,
   "metadata": {
    "collapsed": true
   },
   "outputs": [],
   "source": [
    "for influencer in influencers_top_post:\n",
    "    influencers_top_post[influencer]['num_follow'] = len(G.in_edges(influencer))"
   ]
  },
  {
   "cell_type": "code",
   "execution_count": 46,
   "metadata": {
    "collapsed": false
   },
   "outputs": [],
   "source": [
    "write_json(influencers_top_post, '../data/interaction_dict.json')"
   ]
  },
  {
   "cell_type": "markdown",
   "metadata": {},
   "source": [
    "# Checking the data"
   ]
  },
  {
   "cell_type": "code",
   "execution_count": 48,
   "metadata": {
    "collapsed": false
   },
   "outputs": [
    {
     "name": "stdout",
     "output_type": "stream",
     "text": [
      " 294756617 885 885\n",
      "859178340 236 236\n",
      "5090616 3159 3159\n",
      "176532308 312 312\n",
      "2170373061 270 270\n",
      "401312409 170 170\n",
      "1982904005 462 462\n",
      "400512410 284 284\n",
      "55514310 2270 2268\n",
      "28898672 268 268\n",
      "481991581 2298 2296\n",
      "3116828063 643 643\n",
      "1257079395 3928 3928\n",
      "1069513983 675 675\n",
      "290716168 1222 1222\n",
      "1495667341 4619 4619\n",
      "1108148509 52 52\n",
      "4562782 184 184\n",
      "4808210637 620 620\n",
      "1643549487 139 139\n",
      "252464337 277 277\n",
      "414679969 232 232\n",
      "2252884188 1486 1486\n",
      "1313836206 157 157\n",
      "11295358 5330 5330\n",
      "205770677 121 121\n",
      "11454662 812 811\n",
      "407812568 199 199\n",
      "29333708 314 314\n",
      "18891963 680 680\n",
      "53274987 92 92\n",
      "235439673 722 722\n",
      "1948983829 631 631\n",
      "356143 193 193\n",
      "223936626 610 610\n",
      "2218921 808 808\n",
      "25647980 1359 1359\n",
      "458602313 2142 2142\n",
      "6677416 66 66\n",
      "20340822 681 681\n",
      "3466746620 736 736\n",
      "269335057 224 224\n",
      "555987737 677 677\n",
      "53440747 1434 1434\n",
      "315614120 1115 1115\n",
      "270129251 568 568\n",
      "3933407045 377 377\n",
      "146154834 362 362\n",
      "2283923757 250 250\n",
      "3935144838 1597 1596\n",
      "47296290 3158 3158\n",
      "200605625 760 760\n",
      "1977468026 3647 3647\n",
      "1747270904 445 445\n",
      "405637162 802 802\n",
      "612796387 1248 1247\n",
      "143578835 915 915\n",
      "324266962 340 340\n",
      "49136898 401 401\n",
      "3125942337 898 898\n",
      "43597949 354 354\n",
      "2079715994 511 511\n",
      "1698377630 109 109\n",
      "1621048719 980 980\n",
      "2903461897 424 424\n",
      "34837494 858 858\n",
      "198585309 3433 3433\n",
      "200136899 4326 4326\n",
      "2313447491 523 523\n",
      "1722458344 1764 1764\n",
      "7095077 1004 1004\n",
      "290782161 282 282\n",
      "10176419 966 966\n",
      "178742208 592 592\n",
      "3504028961 365 365\n",
      "15084381 1349 1349\n",
      "1790998631 289 288\n",
      "53828060 1207 1207\n",
      "224258080 2944 2944\n",
      "17400339 117 117\n",
      "1279708751 207 207\n",
      "3401141865 560 560\n",
      "2084206127 291 291\n",
      "4052294333 469 469\n",
      "622184175 318 318\n",
      "847685806 2693 2693\n",
      "442286153 768 768\n",
      "1474420 966 966\n",
      "233784937 1369 1369\n",
      "1548859977 967 967\n",
      "1244637992 199 199\n",
      "4228106107 326 326\n",
      "1059091782 4419 4419\n",
      "19263527 679 679\n",
      "1414300065 164 164\n",
      "2970953392 376 376\n",
      "15966190 502 502\n",
      "645938958 1987 1987\n",
      "2086267701 161 161\n",
      "1480694017 1937 1937\n",
      "21088602 105 105\n",
      "32534107 282 282\n",
      "177733007 969 969\n",
      "1558233678 1058 1058\n",
      "10594273 156 156\n",
      "1558041811 1742 1742\n",
      "1582850061 179 179\n",
      "456656920 1827 1827\n",
      "3035110222 627 627\n",
      "1952624436 731 730\n",
      "553669 475 475\n",
      "1374215389 783 783\n",
      "19490426 644 644\n",
      "451147547 2100 2100\n",
      "2361920753 531 531\n"
     ]
    }
   ],
   "source": [
    "for k,v in influencers_top_post.iteritems():\n",
    "    if 'likes' in v.keys():\n",
    "        print k, v['max_likes'], len(v['likes'])"
   ]
  },
  {
   "cell_type": "code",
   "execution_count": null,
   "metadata": {
    "collapsed": true
   },
   "outputs": [],
   "source": []
  }
 ],
 "metadata": {
  "kernelspec": {
   "display_name": "Python 2",
   "language": "python",
   "name": "python2"
  },
  "language_info": {
   "codemirror_mode": {
    "name": "ipython",
    "version": 2
   },
   "file_extension": ".py",
   "mimetype": "text/x-python",
   "name": "python",
   "nbconvert_exporter": "python",
   "pygments_lexer": "ipython2",
   "version": "2.7.13"
  }
 },
 "nbformat": 4,
 "nbformat_minor": 2
}
