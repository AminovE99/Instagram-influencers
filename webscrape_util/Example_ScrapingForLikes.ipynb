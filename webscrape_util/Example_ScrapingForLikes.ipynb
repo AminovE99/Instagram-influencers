{
 "cells": [
  {
   "cell_type": "code",
   "execution_count": 1,
   "metadata": {
    "collapsed": true
   },
   "outputs": [],
   "source": [
    "from selenium import webdriver\n",
    "from bs4 import BeautifulSoup\n",
    "import time\n",
    "import json\n",
    "import requests\n",
    "from pymongo import MongoClient\n",
    "import numpy as np\n",
    "from collections import defaultdict\n",
    "import pickle"
   ]
  },
  {
   "cell_type": "code",
   "execution_count": 9,
   "metadata": {
    "collapsed": true
   },
   "outputs": [],
   "source": [
    "from webscrape_util.scrape_util import (load_json,\n",
    "                                        write_json,\n",
    "                                        selenium_instagram_login,\n",
    "                                        setup_mongo_client)\n"
   ]
  },
  {
   "cell_type": "code",
   "execution_count": 10,
   "metadata": {
    "collapsed": true
   },
   "outputs": [],
   "source": [
    "client, collection = setup_mongo_client('instascrape', 'likes')"
   ]
  },
  {
   "cell_type": "markdown",
   "metadata": {},
   "source": [
    "# Making dictionary of top posts for top influencers"
   ]
  },
  {
   "cell_type": "code",
   "execution_count": 70,
   "metadata": {
    "collapsed": true
   },
   "outputs": [],
   "source": [
    "hashtags_likes_dict = load_json('data/hashtags_likes_dict.json')\n",
    "with open('data/top10fromallcentralities.pkl') as myfile:\n",
    "    top = pickle.load(myfile)"
   ]
  },
  {
   "cell_type": "code",
   "execution_count": 4,
   "metadata": {
    "collapsed": true
   },
   "outputs": [],
   "source": [
    "# Collect posts for all top influencers\n",
    "influencers_top = {}\n",
    "for k,v in hashtags_likes_dict.iteritems():\n",
    "    if k in top:\n",
    "        influencers_top[k] = v"
   ]
  },
  {
   "cell_type": "code",
   "execution_count": 5,
   "metadata": {
    "collapsed": true
   },
   "outputs": [],
   "source": [
    "# Collect most liked post for all top influencers\n",
    "influencers_top_post = {}\n",
    "for k,v in influencers_top.iteritems():\n",
    "    influencers_top_post[k] = {'max_likes':0, 'post': None}\n",
    "    for i in range(len(v['likes'])):\n",
    "        if v['likes'][i] > influencers_top_post[k]['max_likes']:\n",
    "            influencers_top_post[k]['max_likes'] = v['likes'][i]\n",
    "            influencers_top_post[k]['post'] = v['posts'][i]"
   ]
  },
  {
   "cell_type": "code",
   "execution_count": 13,
   "metadata": {
    "collapsed": false
   },
   "outputs": [],
   "source": [
    "top.remove(\"SelenaGomez\") # Remove fake influencer"
   ]
  },
  {
   "cell_type": "markdown",
   "metadata": {},
   "source": [
    "# Scrape Test"
   ]
  },
  {
   "cell_type": "code",
   "execution_count": 16,
   "metadata": {
    "collapsed": true
   },
   "outputs": [],
   "source": [
    "#base_url = \"https://www.instagram.com/graphql/query/?query_id=17864450716183058&variables=%7B%22shortcode%22%3A%22{}%22%2C%22first%22%3A100%7D\""
   ]
  },
  {
   "cell_type": "code",
   "execution_count": 48,
   "metadata": {
    "collapsed": true
   },
   "outputs": [],
   "source": [
    "url_likes = \"https://www.instagram.com/graphql/query/?query_id=17864450716183058&variables=%7B%22shortcode%22%3A%22{}%22%2C%22first%22%3A{}%7D\""
   ]
  },
  {
   "cell_type": "code",
   "execution_count": 6,
   "metadata": {
    "collapsed": true
   },
   "outputs": [],
   "source": [
    "driver = webdriver.Firefox()"
   ]
  },
  {
   "cell_type": "code",
   "execution_count": 7,
   "metadata": {
    "collapsed": true
   },
   "outputs": [],
   "source": [
    "selenium_instagram_login(driver, 'instagram_credentials.json')"
   ]
  },
  {
   "cell_type": "code",
   "execution_count": 34,
   "metadata": {
    "collapsed": false
   },
   "outputs": [],
   "source": [
    "driver.get(url_likes.format(influencers_top_post[top[0]]['post'], str(influencers_top_post[top[0]]['max_likes'])))"
   ]
  },
  {
   "cell_type": "code",
   "execution_count": 35,
   "metadata": {
    "collapsed": false
   },
   "outputs": [],
   "source": [
    "driver.find_element_by_id('tab-1').click()"
   ]
  },
  {
   "cell_type": "code",
   "execution_count": 36,
   "metadata": {
    "collapsed": true
   },
   "outputs": [],
   "source": [
    "data = driver.find_element_by_css_selector('pre.data')"
   ]
  },
  {
   "cell_type": "code",
   "execution_count": 37,
   "metadata": {
    "collapsed": true
   },
   "outputs": [],
   "source": [
    "my_json = json.loads(data.text)"
   ]
  },
  {
   "cell_type": "code",
   "execution_count": 40,
   "metadata": {
    "collapsed": false
   },
   "outputs": [],
   "source": [
    "likes = my_json['data']['shortcode_media']['edge_liked_by']['edges']"
   ]
  },
  {
   "cell_type": "code",
   "execution_count": 43,
   "metadata": {
    "collapsed": false
   },
   "outputs": [
    {
     "data": {
      "text/plain": [
       "<pymongo.results.InsertOneResult at 0x10fd78e10>"
      ]
     },
     "execution_count": 43,
     "metadata": {},
     "output_type": "execute_result"
    }
   ],
   "source": [
    "collection.insert_one({'id':top[0],'likes': likes})"
   ]
  },
  {
   "cell_type": "code",
   "execution_count": null,
   "metadata": {
    "collapsed": true
   },
   "outputs": [],
   "source": [
    "# Removed this record from mongo db"
   ]
  },
  {
   "cell_type": "markdown",
   "metadata": {},
   "source": [
    "# SCRAPE THE REST!"
   ]
  },
  {
   "cell_type": "code",
   "execution_count": 49,
   "metadata": {
    "collapsed": true
   },
   "outputs": [],
   "source": [
    "for i in range(len(top)):\n",
    "    driver.get(url_likes.format(influencers_top_post[top[i]]['post'], str(influencers_top_post[top[i]]['max_likes'])))\n",
    "    time.sleep(np.random.uniform(2,4))\n",
    "    \n",
    "    driver.find_element_by_id('tab-1').click()\n",
    "    data = driver.find_element_by_css_selector('pre.data')\n",
    "    my_json = json.loads(data.text)\n",
    "    likes = my_json['data']['shortcode_media']['edge_liked_by']['edges']\n",
    "    collection.insert_one({'id':top[i],'likes': likes})\n",
    "    \n",
    "    time.sleep(np.random.uniform(5,8))"
   ]
  },
  {
   "cell_type": "markdown",
   "metadata": {},
   "source": [
    "# Saving the collected data"
   ]
  },
  {
   "cell_type": "code",
   "execution_count": 67,
   "metadata": {
    "collapsed": true
   },
   "outputs": [],
   "source": [
    "cursor = collection.find({})\n",
    "for x in cursor:\n",
    "    user_id = x['id']\n",
    "    likes = []\n",
    "    for liker in x['likes']:\n",
    "        likes.append(liker['node']['id'])\n",
    "    influencers_top_post[user_id]['likes'] = likes"
   ]
  },
  {
   "cell_type": "code",
   "execution_count": 69,
   "metadata": {
    "collapsed": true
   },
   "outputs": [],
   "source": [
    "write_json(influencers_top_post, 'data/influencers_top_posts_likes.json')"
   ]
  },
  {
   "cell_type": "markdown",
   "metadata": {},
   "source": [
    "# Checking the data"
   ]
  },
  {
   "cell_type": "code",
   "execution_count": 72,
   "metadata": {
    "collapsed": false
   },
   "outputs": [
    {
     "name": "stdout",
     "output_type": "stream",
     "text": [
      "3935144838 1597 1596\n",
      "47296290 3158 3158\n",
      "5090616 3159 3159\n",
      "4052294333 469 469\n",
      "847685806 2693 2693\n",
      "1474420 966 966\n",
      "1977468026 3647 3647\n",
      "11295358 5330 5330\n",
      "612796387 1248 1248\n",
      "481991581 2298 2297\n",
      "1059091782 4419 4419\n",
      "19263527 679 679\n",
      "3125942337 898 898\n",
      "1257079395 3928 3928\n",
      "1495667341 4619 4619\n",
      "2218921 808 808\n",
      "622184175 318 318\n",
      "458602313 2142 2142\n",
      "198585309 3433 3433\n",
      "4470742668 114 114\n",
      "456656920 1827 1827\n",
      "555987737 677 677\n",
      "5695204531 134 134\n",
      "53440747 1434 1434\n",
      "53828060 1207 1207\n",
      "320187471 222 222\n",
      "1770521683 433 433\n",
      "1279708751 207 207\n"
     ]
    }
   ],
   "source": [
    "for k,v in influencers_top_post.iteritems():\n",
    "    print k, v['max_likes'], len(v['likes'])"
   ]
  },
  {
   "cell_type": "code",
   "execution_count": null,
   "metadata": {
    "collapsed": true
   },
   "outputs": [],
   "source": []
  }
 ],
 "metadata": {
  "kernelspec": {
   "display_name": "Python 2",
   "language": "python",
   "name": "python2"
  },
  "language_info": {
   "codemirror_mode": {
    "name": "ipython",
    "version": 2
   },
   "file_extension": ".py",
   "mimetype": "text/x-python",
   "name": "python",
   "nbconvert_exporter": "python",
   "pygments_lexer": "ipython2",
   "version": "2.7.13"
  }
 },
 "nbformat": 4,
 "nbformat_minor": 2
}
